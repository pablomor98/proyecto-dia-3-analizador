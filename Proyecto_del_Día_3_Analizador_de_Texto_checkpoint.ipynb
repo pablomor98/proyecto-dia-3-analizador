{
  "cells": [
    {
      "cell_type": "markdown",
      "metadata": {
        "id": "view-in-github",
        "colab_type": "text"
      },
      "source": [
        "<a href=\"https://colab.research.google.com/github/pablomor98/proyecto-dia-3-analizador/blob/main/Proyecto_del_D%C3%ADa_3_Analizador_de_Texto_checkpoint.ipynb\" target=\"_parent\"><img src=\"https://colab.research.google.com/assets/colab-badge.svg\" alt=\"Open In Colab\"/></a>"
      ]
    },
    {
      "cell_type": "markdown",
      "id": "9572445f",
      "metadata": {
        "id": "9572445f"
      },
      "source": [
        "# Proyecto del Día 3: Analizador de Texto\n",
        "\n",
        "Este proyecto tiene como objetivo aplicar los conceptos aprendidos sobre strings, input, indexación y formateo de strings en Python. El programa permitirá al usuario ingresar un texto y luego elegir realizar diversas operaciones de análisis sobre ese texto.\n",
        "\n",
        "## Consigna\n",
        "Vas a crear un programa que le pida al usuario que ingrese un texto de al menos 10 palabras. Tu programa va a procesar ese texto, lo va a procesar, y le va a devolver un análisis detallado, que incluya:\n",
        "1. Contar el número total de caracteres en el texto\n",
        "2. Contar el número de caracteres sin incluir los espacios\n",
        "3. Contar la cantidad de vocales que hay en el texto\n",
        "4. Contar el número total de palabras en el texto ingresado\n",
        "\n",
        "**nota**: para resolver los siguientes items, deberás investigar otros métodos de strings que no hemos visto. Recuerda valerte de *type*, *dir* y *help*\n",
        "\n",
        "5. Eliminar la primera palabra\n",
        "6. Reemplazar todos los espacios por guiones medios (-)\n",
        "8. Cambia las mayúsculas a minúsculas y las minúsculas a mayúsculas\n",
        "\n",
        "Al finalizar el procesamiento, se imprimirán 8 cadenas literales mostrando los resultados del análisis (una cadena por cada resultado.\n",
        "<br>\n",
        "<br>\n",
        "<br>"
      ]
    },
    {
      "cell_type": "markdown",
      "id": "5b509d9e",
      "metadata": {
        "id": "5b509d9e"
      },
      "source": [
        "### Resolución\n",
        "\n",
        "Ingreso del usuario:"
      ]
    },
    {
      "cell_type": "code",
      "execution_count": null,
      "id": "2772c1bf",
      "metadata": {
        "colab": {
          "base_uri": "https://localhost:8080/"
        },
        "id": "2772c1bf",
        "outputId": "16d66dbb-61fd-4222-b7a8-dcf8d70e41fe"
      },
      "outputs": [
        {
          "name": "stdout",
          "output_type": "stream",
          "text": [
            "Ingresa un texto de al menos 10 palabras: Hola mi nombre es Pablo y tengo un perro llamado Chopper al cual amo mucho\n"
          ]
        }
      ],
      "source": [
        "texto = input(\"Ingresa un texto de al menos 10 palabras: \")"
      ]
    },
    {
      "cell_type": "markdown",
      "id": "e180121a",
      "metadata": {
        "id": "e180121a"
      },
      "source": [
        "1. Contar el número total de caracteres en el texto"
      ]
    },
    {
      "cell_type": "code",
      "execution_count": null,
      "id": "f2d7c62b",
      "metadata": {
        "id": "f2d7c62b"
      },
      "outputs": [],
      "source": [
        "cantidad_caracteres = len(texto)"
      ]
    },
    {
      "cell_type": "markdown",
      "id": "d5422f5c",
      "metadata": {
        "id": "d5422f5c"
      },
      "source": [
        "2. Contar el número de caracteres sin incluir los espacios"
      ]
    },
    {
      "cell_type": "code",
      "execution_count": null,
      "id": "619b3813",
      "metadata": {
        "id": "619b3813"
      },
      "outputs": [],
      "source": [
        "texto_sin_espacios = texto.replace(\" \", \"\")\n",
        "cantidad_caracteres_se = len(texto_sin_espacios)"
      ]
    },
    {
      "cell_type": "markdown",
      "id": "e26682d4",
      "metadata": {
        "id": "e26682d4"
      },
      "source": [
        "3. Contar la cantidad de vocales que hay en el texto"
      ]
    },
    {
      "cell_type": "code",
      "execution_count": null,
      "id": "fefc923b",
      "metadata": {
        "id": "fefc923b"
      },
      "outputs": [],
      "source": [
        "cantidad_a = texto.lower().count(\"a\")\n",
        "cantidad_e = texto.lower().count(\"e\")\n",
        "cantidad_i = texto.lower().count(\"i\")\n",
        "cantidad_o = texto.lower().count(\"o\")\n",
        "cantidad_u = texto.lower().count(\"u\")\n",
        "\n",
        "total_vocales = cantidad_a + cantidad_e + cantidad_i + cantidad_o + cantidad_u"
      ]
    },
    {
      "cell_type": "markdown",
      "id": "6a16f744",
      "metadata": {
        "id": "6a16f744"
      },
      "source": [
        "4. Contar el número total de palabras en el texto ingresado"
      ]
    },
    {
      "cell_type": "code",
      "execution_count": null,
      "id": "7d6b10c5",
      "metadata": {
        "id": "7d6b10c5"
      },
      "outputs": [],
      "source": [
        "lista_texto = texto.strip().split(\" \")\n",
        "total_palabras = len(lista_texto)"
      ]
    },
    {
      "cell_type": "markdown",
      "id": "ee1c0f0a",
      "metadata": {
        "id": "ee1c0f0a"
      },
      "source": [
        "5. Eliminar la primera palabra"
      ]
    },
    {
      "cell_type": "code",
      "execution_count": null,
      "id": "73cd681c",
      "metadata": {
        "id": "73cd681c"
      },
      "outputs": [],
      "source": [
        "eliminar_primer_palabra = \" \".join(lista_texto[1:])"
      ]
    },
    {
      "cell_type": "markdown",
      "id": "bb72edc2",
      "metadata": {
        "id": "bb72edc2"
      },
      "source": [
        "6. Reemplazar todos los espacios por guiones medios (-)"
      ]
    },
    {
      "cell_type": "code",
      "execution_count": null,
      "id": "21a629d6",
      "metadata": {
        "id": "21a629d6"
      },
      "outputs": [],
      "source": [
        "espacio_a_guion = texto.replace(\" \", \"-\")"
      ]
    },
    {
      "cell_type": "markdown",
      "id": "53f9bb35",
      "metadata": {
        "id": "53f9bb35"
      },
      "source": [
        "7. Cambia las mayúsculas a minúsculas y las minúsculas a mayúsculas"
      ]
    },
    {
      "cell_type": "code",
      "execution_count": null,
      "id": "f7b4d528",
      "metadata": {
        "id": "f7b4d528"
      },
      "outputs": [],
      "source": [
        "intercambiado = texto.swapcase()"
      ]
    },
    {
      "cell_type": "markdown",
      "id": "8c88681c",
      "metadata": {
        "id": "8c88681c"
      },
      "source": [
        "Muéstrale al usuario los resultados del análisis de su texto."
      ]
    },
    {
      "cell_type": "code",
      "execution_count": null,
      "id": "05a7971a",
      "metadata": {
        "colab": {
          "base_uri": "https://localhost:8080/"
        },
        "id": "05a7971a",
        "outputId": "792825a4-c9fc-4601-f0e0-e61033497746"
      },
      "outputs": [
        {
          "output_type": "stream",
          "name": "stdout",
          "text": [
            "Tu texto ingresado fue:\n",
            "Hola mi nombre es Pablo y tengo un perro llamado Chopper al cual amo mucho\n",
            "\n",
            "La cantidad total de caracteres de tu texto es de:\n",
            "74 caracteres\n",
            "\n",
            "La cantidad total de caracteres de tu texto, sin contar espacios es de:\n",
            "60 caracteres\n",
            "\n",
            "La cantidad total de vocales es de:\n",
            "25 vocales\n",
            "\n",
            "Tu texto tiene 15 palabras en total\n",
            "\n",
            "Este es tu texto ingresado sin la primera palabra:\n",
            "mi nombre es Pablo y tengo un perro llamado Chopper al cual amo mucho\n",
            "\n",
            "Este es tu texto ingresado si intercambiamos espacios por guiones medios:\n",
            "Hola-mi-nombre-es-Pablo-y-tengo-un-perro-llamado-Chopper-al-cual-amo-mucho\n",
            "\n",
            "Tu texto se ve de esta forma si intercambiamos las mayúsculas a minúsculas y las minúsculas a mayúsculas:\n",
            "hOLA MI NOMBRE ES pABLO Y TENGO UN PERRO LLAMADO cHOPPER AL CUAL AMO MUCHO\n"
          ]
        }
      ],
      "source": [
        "print(f\"Tu texto ingresado fue:\\n{texto}\\n\")\n",
        "print(f\"La cantidad total de caracteres de tu texto es de:\\n{cantidad_caracteres} caracteres\\n\")\n",
        "print(f\"La cantidad total de caracteres de tu texto, sin contar espacios es de:\\n{cantidad_caracteres_se} caracteres\\n\")\n",
        "print(f\"La cantidad total de vocales es de:\\n{total_vocales} vocales\\n\")\n",
        "print(f\"Tu texto tiene {total_palabras} palabras en total\\n\")\n",
        "print(f\"Este es tu texto ingresado sin la primera palabra:\\n{eliminar_primer_palabra}\\n\")\n",
        "print(f\"Este es tu texto ingresado si intercambiamos espacios por guiones medios:\\n{espacio_a_guion}\\n\")\n",
        "print(f\"Tu texto se ve de esta forma si intercambiamos las mayúsculas a minúsculas y las minúsculas a mayúsculas:\\n{intercambiado}\")"
      ]
    }
  ],
  "metadata": {
    "kernelspec": {
      "display_name": "Python 3 (ipykernel)",
      "language": "python",
      "name": "python3"
    },
    "language_info": {
      "codemirror_mode": {
        "name": "ipython",
        "version": 3
      },
      "file_extension": ".py",
      "mimetype": "text/x-python",
      "name": "python",
      "nbconvert_exporter": "python",
      "pygments_lexer": "ipython3",
      "version": "3.11.5"
    },
    "colab": {
      "provenance": [],
      "include_colab_link": true
    }
  },
  "nbformat": 4,
  "nbformat_minor": 5
}